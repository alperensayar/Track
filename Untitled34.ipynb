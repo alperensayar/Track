{
  "nbformat": 4,
  "nbformat_minor": 0,
  "metadata": {
    "colab": {
      "name": "Untitled34.ipynb",
      "provenance": [],
      "authorship_tag": "ABX9TyO9U7W+SrqTiWSzHv5C8xh6",
      "include_colab_link": true
    },
    "kernelspec": {
      "name": "python3",
      "display_name": "Python 3"
    }
  },
  "cells": [
    {
      "cell_type": "markdown",
      "metadata": {
        "id": "view-in-github",
        "colab_type": "text"
      },
      "source": [
        "<a href=\"https://colab.research.google.com/github/alperensayar/Track/blob/master/Untitled34.ipynb\" target=\"_parent\"><img src=\"https://colab.research.google.com/assets/colab-badge.svg\" alt=\"Open In Colab\"/></a>"
      ]
    },
    {
      "cell_type": "code",
      "metadata": {
        "id": "GlFhyfaIcZst"
      },
      "source": [
        "\r\n",
        "insert into country_vaccination_stats(country,daily_vaccinations) \r\n",
        "SELECT distinct(country),PERCENTILE_DISC(0.5) \r\n",
        "        WITHIN GROUP (ORDER BY daily_vaccinations)\r\n",
        "        OVER (PARTITION BY country) AS MedianCont\r\n",
        "FROM country_vaccination_stats\r\n",
        "where daily_vaccinations is not null\r\n",
        "\r\n",
        "IF EXISTS(SELECT * FROM country_vaccination_stats WHERE country in(SELECT distinct(country),PERCENTILE_DISC(0.5) \r\n",
        "        WITHIN GROUP (ORDER BY daily_vaccinations)\r\n",
        "        OVER (PARTITION BY country) AS MedianCont\r\n",
        "FROM country_vaccination_stats\r\n",
        "where daily_vaccinations is not null)) BEGIN\r\n",
        "insert into country_vaccination_stats(country,daily_vaccinations) \r\n",
        "SELECT distinct(country),PERCENTILE_DISC(0.5) \r\n",
        "        WITHIN GROUP (ORDER BY daily_vaccinations)\r\n",
        "        OVER (PARTITION BY country) AS MedianCont\r\n",
        "FROM country_vaccination_stats\r\n",
        "where daily_vaccinations is not null END\r\n",
        "ELSE BEGIN select isnull(daily_vaccinations,0) from country_vaccination_stats END;"
      ],
      "execution_count": null,
      "outputs": []
    }
  ]
}