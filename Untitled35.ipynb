{
  "nbformat": 4,
  "nbformat_minor": 0,
  "metadata": {
    "colab": {
      "name": "Untitled35.ipynb",
      "provenance": [],
      "authorship_tag": "ABX9TyO6bGjX7wXfC+lZuiV4Zj/2",
      "include_colab_link": true
    },
    "kernelspec": {
      "name": "python3",
      "display_name": "Python 3"
    }
  },
  "cells": [
    {
      "cell_type": "markdown",
      "metadata": {
        "id": "view-in-github",
        "colab_type": "text"
      },
      "source": [
        "<a href=\"https://colab.research.google.com/github/alperensayar/Track/blob/master/Untitled35.ipynb\" target=\"_parent\"><img src=\"https://colab.research.google.com/assets/colab-badge.svg\" alt=\"Open In Colab\"/></a>"
      ]
    },
    {
      "cell_type": "code",
      "metadata": {
        "id": "RhtRgZaSdoKk"
      },
      "source": [
        "df={\"Device_Type\":[\"AXO145\",\"TRU151\",\"ZOD231\",\"YRT326\",\"LWR245\"],\r\n",
        "    \"Stats_Access_link\":[\"<url>https://xcd32112.smart_meter.com</url>\",\r\n",
        "                         \"<url>https://tXh67.dia_meter.com</url>\",\r\n",
        "                         \"<url>https://yT5495.smart_meter.com</url>\",\r\n",
        "                         \"<url>https://ret323_TRu.crown.com</url>\",\r\n",
        "                         \"<url>https://luwr3243.celcius.com</url>\"]}\r\n",
        "#Create dataframe"
      ],
      "execution_count": null,
      "outputs": []
    },
    {
      "cell_type": "code",
      "metadata": {
        "id": "NwwOVKp4ebjY"
      },
      "source": [
        "import pandas as pd\r\n",
        "df=pd.DataFrame(df)"
      ],
      "execution_count": null,
      "outputs": []
    },
    {
      "cell_type": "markdown",
      "metadata": {
        "id": "Y5pDTyqOfSYP"
      },
      "source": [
        ""
      ]
    },
    {
      "cell_type": "code",
      "metadata": {
        "colab": {
          "base_uri": "https://localhost:8080/",
          "height": 206
        },
        "id": "fcp_ixBOedwh",
        "outputId": "6278000f-398b-44a0-db4c-4c8f2723fc2d"
      },
      "source": [
        "df.head()"
      ],
      "execution_count": null,
      "outputs": [
        {
          "output_type": "execute_result",
          "data": {
            "text/html": [
              "<div>\n",
              "<style scoped>\n",
              "    .dataframe tbody tr th:only-of-type {\n",
              "        vertical-align: middle;\n",
              "    }\n",
              "\n",
              "    .dataframe tbody tr th {\n",
              "        vertical-align: top;\n",
              "    }\n",
              "\n",
              "    .dataframe thead th {\n",
              "        text-align: right;\n",
              "    }\n",
              "</style>\n",
              "<table border=\"1\" class=\"dataframe\">\n",
              "  <thead>\n",
              "    <tr style=\"text-align: right;\">\n",
              "      <th></th>\n",
              "      <th>Device_Type</th>\n",
              "      <th>Stats_Access_link</th>\n",
              "    </tr>\n",
              "  </thead>\n",
              "  <tbody>\n",
              "    <tr>\n",
              "      <th>0</th>\n",
              "      <td>AXO145</td>\n",
              "      <td>&lt;url&gt;https://xcd32112.smart_meter.com&lt;/url&gt;</td>\n",
              "    </tr>\n",
              "    <tr>\n",
              "      <th>1</th>\n",
              "      <td>TRU151</td>\n",
              "      <td>&lt;url&gt;https://tXh67.dia_meter.com&lt;/url&gt;</td>\n",
              "    </tr>\n",
              "    <tr>\n",
              "      <th>2</th>\n",
              "      <td>ZOD231</td>\n",
              "      <td>&lt;url&gt;https://yT5495.smart_meter.com&lt;/url&gt;</td>\n",
              "    </tr>\n",
              "    <tr>\n",
              "      <th>3</th>\n",
              "      <td>YRT326</td>\n",
              "      <td>&lt;url&gt;https://ret323_TRu.crown.com&lt;/url&gt;</td>\n",
              "    </tr>\n",
              "    <tr>\n",
              "      <th>4</th>\n",
              "      <td>LWR245</td>\n",
              "      <td>&lt;url&gt;https://luwr3243.celcius.com&lt;/url&gt;</td>\n",
              "    </tr>\n",
              "  </tbody>\n",
              "</table>\n",
              "</div>"
            ],
            "text/plain": [
              "  Device_Type                            Stats_Access_link\n",
              "0      AXO145  <url>https://xcd32112.smart_meter.com</url>\n",
              "1      TRU151       <url>https://tXh67.dia_meter.com</url>\n",
              "2      ZOD231    <url>https://yT5495.smart_meter.com</url>\n",
              "3      YRT326      <url>https://ret323_TRu.crown.com</url>\n",
              "4      LWR245      <url>https://luwr3243.celcius.com</url>"
            ]
          },
          "metadata": {
            "tags": []
          },
          "execution_count": 11
        }
      ]
    },
    {
      "cell_type": "code",
      "metadata": {
        "id": "wwhKXsMVieCV"
      },
      "source": [
        " def preprocess(sentence):\r\n",
        "    sentence=str(sentence)\r\n",
        "    sentence = sentence.lower()\r\n",
        "    x = sentence.rstrip(\"</url>\")\r\n",
        "    x=x.lstrip(\"<url>https://\")\r\n",
        "    return x\r\n",
        "#processing for task \r\n",
        "\"\"\"\r\n",
        "1) Case not sensitive so i take lower case its not essential\r\n",
        "2)strip url left and right "
      ],
      "execution_count": null,
      "outputs": []
    },
    {
      "cell_type": "code",
      "metadata": {
        "id": "6ovJcs1ujLdg"
      },
      "source": [
        "df['Stats_Access_link']=df['Stats_Access_link'].map(lambda s:preprocess(s))\r\n",
        "#change data frae Link columns with new one"
      ],
      "execution_count": 25,
      "outputs": []
    },
    {
      "cell_type": "code",
      "metadata": {
        "id": "QRciyMprjNl1",
        "colab": {
          "base_uri": "https://localhost:8080/",
          "height": 206
        },
        "outputId": "6df5524c-3d74-4222-dbf6-203d44e40a5e"
      },
      "source": [
        "df.head()"
      ],
      "execution_count": 26,
      "outputs": [
        {
          "output_type": "execute_result",
          "data": {
            "text/html": [
              "<div>\n",
              "<style scoped>\n",
              "    .dataframe tbody tr th:only-of-type {\n",
              "        vertical-align: middle;\n",
              "    }\n",
              "\n",
              "    .dataframe tbody tr th {\n",
              "        vertical-align: top;\n",
              "    }\n",
              "\n",
              "    .dataframe thead th {\n",
              "        text-align: right;\n",
              "    }\n",
              "</style>\n",
              "<table border=\"1\" class=\"dataframe\">\n",
              "  <thead>\n",
              "    <tr style=\"text-align: right;\">\n",
              "      <th></th>\n",
              "      <th>Device_Type</th>\n",
              "      <th>Stats_Access_link</th>\n",
              "    </tr>\n",
              "  </thead>\n",
              "  <tbody>\n",
              "    <tr>\n",
              "      <th>0</th>\n",
              "      <td>AXO145</td>\n",
              "      <td>xcd32112.smart_meter.com</td>\n",
              "    </tr>\n",
              "    <tr>\n",
              "      <th>1</th>\n",
              "      <td>TRU151</td>\n",
              "      <td>xh67.dia_meter.com</td>\n",
              "    </tr>\n",
              "    <tr>\n",
              "      <th>2</th>\n",
              "      <td>ZOD231</td>\n",
              "      <td>yt5495.smart_meter.com</td>\n",
              "    </tr>\n",
              "    <tr>\n",
              "      <th>3</th>\n",
              "      <td>YRT326</td>\n",
              "      <td>et323_tru.crown.com</td>\n",
              "    </tr>\n",
              "    <tr>\n",
              "      <th>4</th>\n",
              "      <td>LWR245</td>\n",
              "      <td>wr3243.celcius.com</td>\n",
              "    </tr>\n",
              "  </tbody>\n",
              "</table>\n",
              "</div>"
            ],
            "text/plain": [
              "  Device_Type         Stats_Access_link\n",
              "0      AXO145  xcd32112.smart_meter.com\n",
              "1      TRU151        xh67.dia_meter.com\n",
              "2      ZOD231    yt5495.smart_meter.com\n",
              "3      YRT326       et323_tru.crown.com\n",
              "4      LWR245        wr3243.celcius.com"
            ]
          },
          "metadata": {
            "tags": []
          },
          "execution_count": 26
        }
      ]
    },
    {
      "cell_type": "code",
      "metadata": {
        "id": "7-0wHWXCjzSD"
      },
      "source": [
        ""
      ],
      "execution_count": null,
      "outputs": []
    }
  ]
}