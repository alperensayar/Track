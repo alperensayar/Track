{
  "nbformat": 4,
  "nbformat_minor": 0,
  "metadata": {
    "colab": {
      "name": "Untitled33.ipynb",
      "provenance": [],
      "authorship_tag": "ABX9TyNPhlrUIml8Iy88z77aZdA4",
      "include_colab_link": true
    },
    "kernelspec": {
      "name": "python3",
      "display_name": "Python 3"
    }
  },
  "cells": [
    {
      "cell_type": "markdown",
      "metadata": {
        "id": "view-in-github",
        "colab_type": "text"
      },
      "source": [
        "<a href=\"https://colab.research.google.com/github/alperensayar/Track/blob/master/Untitled33.ipynb\" target=\"_parent\"><img src=\"https://colab.research.google.com/assets/colab-badge.svg\" alt=\"Open In Colab\"/></a>"
      ]
    },
    {
      "cell_type": "code",
      "metadata": {
        "colab": {
          "base_uri": "https://localhost:8080/"
        },
        "id": "iO9RaFZbbcQB",
        "outputId": "9ef19de5-5130-4736-9fdc-6f4bfa93d6aa"
      },
      "source": [
        "import pandas as pd\r\n",
        "df=pd.read_csv(\"country_vaccination_stats.csv\")\r\n",
        "df.head()\r\n",
        "bool_series = pd.isnull(df[\"daily_vaccinations\"])  \r\n",
        "\r\n",
        "df[bool_series]\r\n",
        "def min_target(variable):\r\n",
        "    temp = df[df[variable].notnull()]\r\n",
        "    temp = temp[[variable, 'country']].groupby(['country'])[[variable]].min().reset_index()\r\n",
        "    return temp\r\n",
        "temp=min_target(\"daily_vaccinations\")\r\n",
        "a=df[bool_series].index\r\n",
        "for i in range(len(a)):\r\n",
        "  if (df.loc[a[i]][\"country\"] in temp.values):\r\n",
        "    df[\"daily_vaccinations\"].fillna(temp[temp[\"country\"]==df.loc[a[0]][\"country\"]][\"daily_vaccinations\"],inplace=True)\r\n",
        "    \r\n",
        "  else:\r\n",
        "    df[\"daily_vaccinations\"].fillna(0,inplace=True)\r\n",
        "df.isnull().sum()"
      ],
      "execution_count": 6,
      "outputs": [
        {
          "output_type": "execute_result",
          "data": {
            "text/plain": [
              "country               0\n",
              "date                  0\n",
              "daily_vaccinations    0\n",
              "vaccines              0\n",
              "dtype: int64"
            ]
          },
          "metadata": {
            "tags": []
          },
          "execution_count": 6
        }
      ]
    },
    {
      "cell_type": "code",
      "metadata": {
        "id": "-SgDSoFFa7Sb"
      },
      "source": [
        "def median_target(variable):\r\n",
        "    temp = df[df[variable].notnull()]\r\n",
        "    temp = temp[[variable, 'country']].groupby(['country'])[[variable]].median().reset_index()\r\n",
        "    return temp"
      ],
      "execution_count": 7,
      "outputs": []
    },
    {
      "cell_type": "code",
      "metadata": {
        "colab": {
          "base_uri": "https://localhost:8080/",
          "height": 143
        },
        "id": "Kwvn9UBSa_Et",
        "outputId": "2230a8f2-04d9-4d78-9ad5-4f1f692b2010"
      },
      "source": [
        "k=median_target(\"daily_vaccinations\").sort_values(by=['daily_vaccinations'],ascending=False).head(3)\r\n",
        "k"
      ],
      "execution_count": 9,
      "outputs": [
        {
          "output_type": "execute_result",
          "data": {
            "text/html": [
              "<div>\n",
              "<style scoped>\n",
              "    .dataframe tbody tr th:only-of-type {\n",
              "        vertical-align: middle;\n",
              "    }\n",
              "\n",
              "    .dataframe tbody tr th {\n",
              "        vertical-align: top;\n",
              "    }\n",
              "\n",
              "    .dataframe thead th {\n",
              "        text-align: right;\n",
              "    }\n",
              "</style>\n",
              "<table border=\"1\" class=\"dataframe\">\n",
              "  <thead>\n",
              "    <tr style=\"text-align: right;\">\n",
              "      <th></th>\n",
              "      <th>country</th>\n",
              "      <th>daily_vaccinations</th>\n",
              "    </tr>\n",
              "  </thead>\n",
              "  <tbody>\n",
              "    <tr>\n",
              "      <th>58</th>\n",
              "      <td>United States</td>\n",
              "      <td>378253.0</td>\n",
              "    </tr>\n",
              "    <tr>\n",
              "      <th>8</th>\n",
              "      <td>China</td>\n",
              "      <td>276786.0</td>\n",
              "    </tr>\n",
              "    <tr>\n",
              "      <th>24</th>\n",
              "      <td>India</td>\n",
              "      <td>173922.0</td>\n",
              "    </tr>\n",
              "  </tbody>\n",
              "</table>\n",
              "</div>"
            ],
            "text/plain": [
              "          country  daily_vaccinations\n",
              "58  United States            378253.0\n",
              "8           China            276786.0\n",
              "24          India            173922.0"
            ]
          },
          "metadata": {
            "tags": []
          },
          "execution_count": 9
        }
      ]
    },
    {
      "cell_type": "code",
      "metadata": {
        "id": "5CNSUF6Db9q_"
      },
      "source": [
        ""
      ],
      "execution_count": null,
      "outputs": []
    }
  ]
}