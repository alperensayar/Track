{
  "nbformat": 4,
  "nbformat_minor": 0,
  "metadata": {
    "colab": {
      "name": "Untitled42.ipynb",
      "provenance": [],
      "authorship_tag": "ABX9TyN5g8nnIbIM+w7Ac4HZt1gi",
      "include_colab_link": true
    },
    "kernelspec": {
      "name": "python3",
      "display_name": "Python 3"
    }
  },
  "cells": [
    {
      "cell_type": "markdown",
      "metadata": {
        "id": "view-in-github",
        "colab_type": "text"
      },
      "source": [
        "<a href=\"https://colab.research.google.com/github/alperensayar/Track/blob/master/Untitled42.ipynb\" target=\"_parent\"><img src=\"https://colab.research.google.com/assets/colab-badge.svg\" alt=\"Open In Colab\"/></a>"
      ]
    },
    {
      "cell_type": "code",
      "metadata": {
        "id": "XNWIA9LgtwTx"
      },
      "source": [
        "from datetime import datetime\r\n",
        "import numpy as np             #for numerical computations like log,exp,sqrt etc\r\n",
        "import pandas as pd            #for reading & storing data, pre-processing\r\n",
        "import matplotlib.pylab as plt #for visualization\r\n",
        "#for making sure matplotlib plots are generated in Jupyter notebook itself\r\n",
        "%matplotlib inline             \r\n",
        "from statsmodels.tsa.stattools import adfuller\r\n",
        "from statsmodels.tsa.stattools import acf, pacf\r\n",
        "from statsmodels.tsa.seasonal import seasonal_decompose\r\n",
        "from statsmodels.tsa.arima_model import ARIMA\r\n",
        "from matplotlib.pylab import rcParams\r\n",
        "rcParams['figure.figsize'] = 10, 6"
      ],
      "execution_count": null,
      "outputs": []
    },
    {
      "cell_type": "code",
      "metadata": {
        "colab": {
          "base_uri": "https://localhost:8080/",
          "height": 226
        },
        "id": "q-p_wv2rH1yb",
        "outputId": "d184f326-4ba1-4838-e39b-558619015718"
      },
      "source": [
        "df=pd.read_excel(\"ACO.xlsx\")\r\n",
        "df.head()"
      ],
      "execution_count": null,
      "outputs": [
        {
          "output_type": "execute_result",
          "data": {
            "text/html": [
              "<div>\n",
              "<style scoped>\n",
              "    .dataframe tbody tr th:only-of-type {\n",
              "        vertical-align: middle;\n",
              "    }\n",
              "\n",
              "    .dataframe tbody tr th {\n",
              "        vertical-align: top;\n",
              "    }\n",
              "\n",
              "    .dataframe thead th {\n",
              "        text-align: right;\n",
              "    }\n",
              "</style>\n",
              "<table border=\"1\" class=\"dataframe\">\n",
              "  <thead>\n",
              "    <tr style=\"text-align: right;\">\n",
              "      <th></th>\n",
              "      <th>TARIH</th>\n",
              "      <th>ACO_FIYAT</th>\n",
              "      <th>ACO_TEDAVULDEKI_PAY</th>\n",
              "      <th>ACO_kategori_portföy_degeri</th>\n",
              "      <th>ACO_kategori_net_buyume</th>\n",
              "      <th>ACO_para_cıkısı</th>\n",
              "      <th>ACO_para_girisi</th>\n",
              "      <th>ACO_Sektor_Getiri</th>\n",
              "      <th>ACO_Kategorik_Getiri</th>\n",
              "      <th>ACO_Max_Getiri</th>\n",
              "      <th>ACO_AktifDeger</th>\n",
              "      <th>ACO_NetBuyume</th>\n",
              "      <th>ACO_Sortino_Ratio</th>\n",
              "      <th>ACO_Sharpe</th>\n",
              "      <th>ACO_Mean</th>\n",
              "      <th>ACO_G_Mean</th>\n",
              "      <th>ACO_K_Ratio</th>\n",
              "      <th>ACO_VARYANS</th>\n",
              "      <th>ACO_Calmar_Ratio</th>\n",
              "    </tr>\n",
              "  </thead>\n",
              "  <tbody>\n",
              "    <tr>\n",
              "      <th>0</th>\n",
              "      <td>2016-08-10</td>\n",
              "      <td>0.0</td>\n",
              "      <td>0</td>\n",
              "      <td>2.089816e+10</td>\n",
              "      <td>-4.724878e+07</td>\n",
              "      <td>-4.724878e+07</td>\n",
              "      <td>0.0</td>\n",
              "      <td>1.26825</td>\n",
              "      <td>0.019816</td>\n",
              "      <td>0.154908</td>\n",
              "      <td>0.0</td>\n",
              "      <td>0.0</td>\n",
              "      <td>0.0</td>\n",
              "      <td>0.0</td>\n",
              "      <td>0.0</td>\n",
              "      <td>0.0</td>\n",
              "      <td>0.0</td>\n",
              "      <td>0.0</td>\n",
              "      <td>0.0</td>\n",
              "    </tr>\n",
              "    <tr>\n",
              "      <th>1</th>\n",
              "      <td>2016-08-10</td>\n",
              "      <td>0.0</td>\n",
              "      <td>0</td>\n",
              "      <td>2.089816e+10</td>\n",
              "      <td>-4.724878e+07</td>\n",
              "      <td>-4.724878e+07</td>\n",
              "      <td>0.0</td>\n",
              "      <td>1.26825</td>\n",
              "      <td>0.019816</td>\n",
              "      <td>0.154908</td>\n",
              "      <td>0.0</td>\n",
              "      <td>0.0</td>\n",
              "      <td>0.0</td>\n",
              "      <td>0.0</td>\n",
              "      <td>0.0</td>\n",
              "      <td>0.0</td>\n",
              "      <td>0.0</td>\n",
              "      <td>0.0</td>\n",
              "      <td>0.0</td>\n",
              "    </tr>\n",
              "    <tr>\n",
              "      <th>2</th>\n",
              "      <td>2016-08-10</td>\n",
              "      <td>0.0</td>\n",
              "      <td>0</td>\n",
              "      <td>2.089816e+10</td>\n",
              "      <td>-4.724878e+07</td>\n",
              "      <td>-4.724878e+07</td>\n",
              "      <td>0.0</td>\n",
              "      <td>1.26825</td>\n",
              "      <td>0.019816</td>\n",
              "      <td>0.154908</td>\n",
              "      <td>0.0</td>\n",
              "      <td>0.0</td>\n",
              "      <td>0.0</td>\n",
              "      <td>0.0</td>\n",
              "      <td>0.0</td>\n",
              "      <td>0.0</td>\n",
              "      <td>0.0</td>\n",
              "      <td>0.0</td>\n",
              "      <td>0.0</td>\n",
              "    </tr>\n",
              "    <tr>\n",
              "      <th>3</th>\n",
              "      <td>2016-08-10</td>\n",
              "      <td>0.0</td>\n",
              "      <td>0</td>\n",
              "      <td>2.089816e+10</td>\n",
              "      <td>-4.724878e+07</td>\n",
              "      <td>-4.724878e+07</td>\n",
              "      <td>0.0</td>\n",
              "      <td>1.26825</td>\n",
              "      <td>0.019816</td>\n",
              "      <td>0.154908</td>\n",
              "      <td>0.0</td>\n",
              "      <td>0.0</td>\n",
              "      <td>0.0</td>\n",
              "      <td>0.0</td>\n",
              "      <td>0.0</td>\n",
              "      <td>0.0</td>\n",
              "      <td>0.0</td>\n",
              "      <td>0.0</td>\n",
              "      <td>0.0</td>\n",
              "    </tr>\n",
              "    <tr>\n",
              "      <th>4</th>\n",
              "      <td>2016-08-10</td>\n",
              "      <td>0.0</td>\n",
              "      <td>0</td>\n",
              "      <td>2.089816e+10</td>\n",
              "      <td>-4.724878e+07</td>\n",
              "      <td>-4.724878e+07</td>\n",
              "      <td>0.0</td>\n",
              "      <td>1.26825</td>\n",
              "      <td>0.019816</td>\n",
              "      <td>0.154908</td>\n",
              "      <td>0.0</td>\n",
              "      <td>0.0</td>\n",
              "      <td>0.0</td>\n",
              "      <td>0.0</td>\n",
              "      <td>0.0</td>\n",
              "      <td>0.0</td>\n",
              "      <td>0.0</td>\n",
              "      <td>0.0</td>\n",
              "      <td>0.0</td>\n",
              "    </tr>\n",
              "  </tbody>\n",
              "</table>\n",
              "</div>"
            ],
            "text/plain": [
              "       TARIH  ACO_FIYAT  ...  ACO_VARYANS  ACO_Calmar_Ratio\n",
              "0 2016-08-10        0.0  ...          0.0               0.0\n",
              "1 2016-08-10        0.0  ...          0.0               0.0\n",
              "2 2016-08-10        0.0  ...          0.0               0.0\n",
              "3 2016-08-10        0.0  ...          0.0               0.0\n",
              "4 2016-08-10        0.0  ...          0.0               0.0\n",
              "\n",
              "[5 rows x 19 columns]"
            ]
          },
          "metadata": {
            "tags": []
          },
          "execution_count": 8
        }
      ]
    },
    {
      "cell_type": "code",
      "metadata": {
        "id": "f8KsVxz4H-I2"
      },
      "source": [
        "df.drop_duplicates(subset=[\"TARIH\"],inplace=True)\r\n",
        "df.head()\r\n",
        "df=df.iloc[1:]\r\n",
        "df.reset_index(inplace=True,drop=True)"
      ],
      "execution_count": null,
      "outputs": []
    },
    {
      "cell_type": "code",
      "metadata": {
        "id": "haYSkQhTIHeR"
      },
      "source": [
        "df=pd.DataFrame(df)\r\n",
        "df.head()\r\n",
        "\r\n",
        "df_train=df.iloc[:len(df)-60]\r\n",
        "df_test=df.iloc[len(df)-60:]"
      ],
      "execution_count": null,
      "outputs": []
    },
    {
      "cell_type": "code",
      "metadata": {
        "colab": {
          "base_uri": "https://localhost:8080/"
        },
        "id": "LDPoc3UiIRtl",
        "outputId": "938d6f02-5e4b-44df-974e-54c2f28b61cf"
      },
      "source": [
        "!pip3 install pmdarima"
      ],
      "execution_count": null,
      "outputs": [
        {
          "output_type": "stream",
          "text": [
            "Collecting pmdarima\n",
            "\u001b[?25l  Downloading https://files.pythonhosted.org/packages/e4/a8/bdf15174e35d072e145d16388b1d3bc7605b752610170cb022a290411427/pmdarima-1.8.0-cp37-cp37m-manylinux1_x86_64.whl (1.5MB)\n",
            "\u001b[K     |████████████████████████████████| 1.5MB 8.0MB/s \n",
            "\u001b[?25hRequirement already satisfied: setuptools!=50.0.0,>=38.6.0 in /usr/local/lib/python3.7/dist-packages (from pmdarima) (54.0.0)\n",
            "Requirement already satisfied: joblib>=0.11 in /usr/local/lib/python3.7/dist-packages (from pmdarima) (1.0.1)\n",
            "Requirement already satisfied: scikit-learn>=0.22 in /usr/local/lib/python3.7/dist-packages (from pmdarima) (0.22.2.post1)\n",
            "Requirement already satisfied: pandas>=0.19 in /usr/local/lib/python3.7/dist-packages (from pmdarima) (1.1.5)\n",
            "Requirement already satisfied: scipy>=1.3.2 in /usr/local/lib/python3.7/dist-packages (from pmdarima) (1.4.1)\n",
            "Requirement already satisfied: urllib3 in /usr/local/lib/python3.7/dist-packages (from pmdarima) (1.24.3)\n",
            "Requirement already satisfied: numpy>=1.17.3 in /usr/local/lib/python3.7/dist-packages (from pmdarima) (1.19.5)\n",
            "Collecting statsmodels!=0.12.0,>=0.11\n",
            "\u001b[?25l  Downloading https://files.pythonhosted.org/packages/da/69/8eef30a6237c54f3c0b524140e2975f4b1eea3489b45eb3339574fc8acee/statsmodels-0.12.2-cp37-cp37m-manylinux1_x86_64.whl (9.5MB)\n",
            "\u001b[K     |████████████████████████████████| 9.5MB 24.4MB/s \n",
            "\u001b[?25hCollecting Cython<0.29.18,>=0.29\n",
            "\u001b[?25l  Downloading https://files.pythonhosted.org/packages/dc/6c/198da24bf0a1d5b5ee6119e891c5300bb1b0b8904832fac9ff62d4e381c9/Cython-0.29.17-cp37-cp37m-manylinux1_x86_64.whl (2.1MB)\n",
            "\u001b[K     |████████████████████████████████| 2.1MB 50.9MB/s \n",
            "\u001b[?25hRequirement already satisfied: python-dateutil>=2.7.3 in /usr/local/lib/python3.7/dist-packages (from pandas>=0.19->pmdarima) (2.8.1)\n",
            "Requirement already satisfied: pytz>=2017.2 in /usr/local/lib/python3.7/dist-packages (from pandas>=0.19->pmdarima) (2018.9)\n",
            "Requirement already satisfied: patsy>=0.5 in /usr/local/lib/python3.7/dist-packages (from statsmodels!=0.12.0,>=0.11->pmdarima) (0.5.1)\n",
            "Requirement already satisfied: six>=1.5 in /usr/local/lib/python3.7/dist-packages (from python-dateutil>=2.7.3->pandas>=0.19->pmdarima) (1.15.0)\n",
            "Installing collected packages: statsmodels, Cython, pmdarima\n",
            "  Found existing installation: statsmodels 0.10.2\n",
            "    Uninstalling statsmodels-0.10.2:\n",
            "      Successfully uninstalled statsmodels-0.10.2\n",
            "  Found existing installation: Cython 0.29.22\n",
            "    Uninstalling Cython-0.29.22:\n",
            "      Successfully uninstalled Cython-0.29.22\n",
            "Successfully installed Cython-0.29.17 pmdarima-1.8.0 statsmodels-0.12.2\n"
          ],
          "name": "stdout"
        }
      ]
    },
    {
      "cell_type": "code",
      "metadata": {
        "id": "PE0o6gh5U4XG"
      },
      "source": [
        "import pmdarima as pm"
      ],
      "execution_count": null,
      "outputs": []
    },
    {
      "cell_type": "code",
      "metadata": {
        "colab": {
          "base_uri": "https://localhost:8080/",
          "height": 840
        },
        "id": "1_XAuf2vU5-t",
        "outputId": "2b765980-a796-41b3-86ca-17def9a0c738"
      },
      "source": [
        "smodel = pm.auto_arima(df_train, start_p=1, start_q=1,\r\n",
        "                         test='adf',\r\n",
        "                         max_p=3, max_q=3, m=12,\r\n",
        "                         start_P=0, seasonal=True,\r\n",
        "                         d=None, D=1, trace=True,\r\n",
        "                         error_action='ignore',  \r\n",
        "                         suppress_warnings=True, \r\n",
        "                         stepwise=True)\r\n",
        "\r\n",
        "smodel.summary()"
      ],
      "execution_count": null,
      "outputs": [
        {
          "output_type": "stream",
          "text": [
            "Performing stepwise search to minimize aic\n",
            " ARIMA(1,0,1)(0,1,1)[12] intercept   : AIC=-9431.109, Time=4.63 sec\n",
            " ARIMA(0,0,0)(0,1,0)[12] intercept   : AIC=-7611.265, Time=0.39 sec\n",
            " ARIMA(1,0,0)(1,1,0)[12] intercept   : AIC=-9500.848, Time=4.01 sec\n",
            " ARIMA(0,0,1)(0,1,1)[12] intercept   : AIC=-8855.446, Time=12.77 sec\n",
            " ARIMA(0,0,0)(0,1,0)[12]             : AIC=-6558.183, Time=0.17 sec\n",
            " ARIMA(1,0,0)(0,1,0)[12] intercept   : AIC=-10419.427, Time=1.26 sec\n",
            " ARIMA(1,0,0)(0,1,1)[12] intercept   : AIC=-9397.278, Time=6.74 sec\n",
            " ARIMA(1,0,0)(1,1,1)[12] intercept   : AIC=-9708.508, Time=10.95 sec\n",
            " ARIMA(2,0,0)(0,1,0)[12] intercept   : AIC=-10446.252, Time=1.16 sec\n",
            " ARIMA(2,0,0)(1,1,0)[12] intercept   : AIC=-9536.174, Time=7.08 sec\n",
            " ARIMA(2,0,0)(0,1,1)[12] intercept   : AIC=-9430.062, Time=7.27 sec\n",
            " ARIMA(2,0,0)(1,1,1)[12] intercept   : AIC=-9742.505, Time=3.16 sec\n",
            " ARIMA(3,0,0)(0,1,0)[12] intercept   : AIC=-10444.395, Time=1.98 sec\n",
            " ARIMA(2,0,1)(0,1,0)[12] intercept   : AIC=-10444.404, Time=1.51 sec\n",
            " ARIMA(1,0,1)(0,1,0)[12] intercept   : AIC=-10444.916, Time=0.49 sec\n",
            " ARIMA(3,0,1)(0,1,0)[12] intercept   : AIC=-10441.029, Time=3.60 sec\n",
            " ARIMA(2,0,0)(0,1,0)[12]             : AIC=-10432.692, Time=0.45 sec\n",
            "\n",
            "Best model:  ARIMA(2,0,0)(0,1,0)[12] intercept\n",
            "Total fit time: 67.658 seconds\n"
          ],
          "name": "stdout"
        },
        {
          "output_type": "execute_result",
          "data": {
            "text/html": [
              "<table class=\"simpletable\">\n",
              "<caption>SARIMAX Results</caption>\n",
              "<tr>\n",
              "  <th>Dep. Variable:</th>                  <td>y</td>               <th>  No. Observations:  </th>    <td>1023</td>   \n",
              "</tr>\n",
              "<tr>\n",
              "  <th>Model:</th>           <td>SARIMAX(2, 0, 0)x(0, 1, 0, 12)</td> <th>  Log Likelihood     </th>  <td>5227.126</td> \n",
              "</tr>\n",
              "<tr>\n",
              "  <th>Date:</th>                   <td>Tue, 09 Mar 2021</td>        <th>  AIC                </th> <td>-10446.252</td>\n",
              "</tr>\n",
              "<tr>\n",
              "  <th>Time:</th>                       <td>14:30:20</td>            <th>  BIC                </th> <td>-10426.577</td>\n",
              "</tr>\n",
              "<tr>\n",
              "  <th>Sample:</th>                         <td>0</td>               <th>  HQIC               </th> <td>-10438.778</td>\n",
              "</tr>\n",
              "<tr>\n",
              "  <th></th>                             <td> - 1023</td>            <th>                     </th>      <td> </td>    \n",
              "</tr>\n",
              "<tr>\n",
              "  <th>Covariance Type:</th>               <td>opg</td>              <th>                     </th>      <td> </td>    \n",
              "</tr>\n",
              "</table>\n",
              "<table class=\"simpletable\">\n",
              "<tr>\n",
              "      <td></td>         <th>coef</th>     <th>std err</th>      <th>z</th>      <th>P>|z|</th>  <th>[0.025</th>    <th>0.975]</th>  \n",
              "</tr>\n",
              "<tr>\n",
              "  <th>intercept</th> <td>    0.0003</td> <td> 6.95e-05</td> <td>    4.002</td> <td> 0.000</td> <td>    0.000</td> <td>    0.000</td>\n",
              "</tr>\n",
              "<tr>\n",
              "  <th>ar.L1</th>     <td>    1.1308</td> <td>    0.025</td> <td>   44.552</td> <td> 0.000</td> <td>    1.081</td> <td>    1.181</td>\n",
              "</tr>\n",
              "<tr>\n",
              "  <th>ar.L2</th>     <td>   -0.1678</td> <td>    0.025</td> <td>   -6.712</td> <td> 0.000</td> <td>   -0.217</td> <td>   -0.119</td>\n",
              "</tr>\n",
              "<tr>\n",
              "  <th>sigma2</th>    <td> 1.875e-06</td> <td> 4.75e-08</td> <td>   39.438</td> <td> 0.000</td> <td> 1.78e-06</td> <td> 1.97e-06</td>\n",
              "</tr>\n",
              "</table>\n",
              "<table class=\"simpletable\">\n",
              "<tr>\n",
              "  <th>Ljung-Box (L1) (Q):</th>     <td>0.00</td> <th>  Jarque-Bera (JB):  </th> <td>734.54</td>\n",
              "</tr>\n",
              "<tr>\n",
              "  <th>Prob(Q):</th>                <td>0.95</td> <th>  Prob(JB):          </th>  <td>0.00</td> \n",
              "</tr>\n",
              "<tr>\n",
              "  <th>Heteroskedasticity (H):</th> <td>3.49</td> <th>  Skew:              </th>  <td>0.04</td> \n",
              "</tr>\n",
              "<tr>\n",
              "  <th>Prob(H) (two-sided):</th>    <td>0.00</td> <th>  Kurtosis:          </th>  <td>7.18</td> \n",
              "</tr>\n",
              "</table><br/><br/>Warnings:<br/>[1] Covariance matrix calculated using the outer product of gradients (complex-step)."
            ],
            "text/plain": [
              "<class 'statsmodels.iolib.summary.Summary'>\n",
              "\"\"\"\n",
              "                                     SARIMAX Results                                      \n",
              "==========================================================================================\n",
              "Dep. Variable:                                  y   No. Observations:                 1023\n",
              "Model:             SARIMAX(2, 0, 0)x(0, 1, 0, 12)   Log Likelihood                5227.126\n",
              "Date:                            Tue, 09 Mar 2021   AIC                         -10446.252\n",
              "Time:                                    14:30:20   BIC                         -10426.577\n",
              "Sample:                                         0   HQIC                        -10438.778\n",
              "                                           - 1023                                         \n",
              "Covariance Type:                              opg                                         \n",
              "==============================================================================\n",
              "                 coef    std err          z      P>|z|      [0.025      0.975]\n",
              "------------------------------------------------------------------------------\n",
              "intercept      0.0003   6.95e-05      4.002      0.000       0.000       0.000\n",
              "ar.L1          1.1308      0.025     44.552      0.000       1.081       1.181\n",
              "ar.L2         -0.1678      0.025     -6.712      0.000      -0.217      -0.119\n",
              "sigma2      1.875e-06   4.75e-08     39.438      0.000    1.78e-06    1.97e-06\n",
              "===================================================================================\n",
              "Ljung-Box (L1) (Q):                   0.00   Jarque-Bera (JB):               734.54\n",
              "Prob(Q):                              0.95   Prob(JB):                         0.00\n",
              "Heteroskedasticity (H):               3.49   Skew:                             0.04\n",
              "Prob(H) (two-sided):                  0.00   Kurtosis:                         7.18\n",
              "===================================================================================\n",
              "\n",
              "Warnings:\n",
              "[1] Covariance matrix calculated using the outer product of gradients (complex-step).\n",
              "\"\"\""
            ]
          },
          "metadata": {
            "tags": []
          },
          "execution_count": 37
        }
      ]
    },
    {
      "cell_type": "code",
      "metadata": {
        "colab": {
          "base_uri": "https://localhost:8080/",
          "height": 390
        },
        "id": "6fA09oKTVqnN",
        "outputId": "817f7341-12d8-4d05-dd38-a33a2d383450"
      },
      "source": [
        "n_periods = 60\r\n",
        "fitted, confint = smodel.predict(n_periods=n_periods, return_conf_int=True)\r\n",
        "index_of_fc = pd.date_range(df_train.index[-1], periods = n_periods, freq='M')\r\n",
        "\r\n",
        "\r\n",
        "fitted_series = pd.Series(fitted, index=index_of_fc)\r\n",
        "lower_series = pd.Series(confint[:, 0], index=index_of_fc)\r\n",
        "upper_series = pd.Series(confint[:, 1], index=index_of_fc)\r\n",
        "\r\n",
        "\r\n",
        "plt.plot(df_test)\r\n",
        "plt.plot(fitted_series, color='darkgreen')\r\n",
        "plt.fill_between(lower_series.index, \r\n",
        "                 lower_series, \r\n",
        "                 upper_series, \r\n",
        "                 color='k', alpha=.15)\r\n",
        "\r\n",
        "plt.title(\"SARIMA - Final Forecast of ACO_FYAT - Time Series Dataset\")\r\n",
        "plt.show()"
      ],
      "execution_count": 40,
      "outputs": [
        {
          "output_type": "display_data",
          "data": {
            "image/png": "[encoded data removed]",
            "text/plain": [
              "<Figure size 720x432 with 1 Axes>"
            ]
          },
          "metadata": {
            "tags": [],
            "needs_background": "light"
          }
        }
      ]
    },
    {
      "cell_type": "code",
      "metadata": {
        "colab": {
          "base_uri": "https://localhost:8080/",
          "height": 237
        },
        "id": "3IkH_aWCVr0G",
        "outputId": "9087e33c-96a3-4d90-8f78-8a67a914886b"
      },
      "source": [
        "df_test.tail()"
      ],
      "execution_count": null,
      "outputs": [
        {
          "output_type": "execute_result",
          "data": {
            "text/html": [
              "<div>\n",
              "<style scoped>\n",
              "    .dataframe tbody tr th:only-of-type {\n",
              "        vertical-align: middle;\n",
              "    }\n",
              "\n",
              "    .dataframe tbody tr th {\n",
              "        vertical-align: top;\n",
              "    }\n",
              "\n",
              "    .dataframe thead th {\n",
              "        text-align: right;\n",
              "    }\n",
              "</style>\n",
              "<table border=\"1\" class=\"dataframe\">\n",
              "  <thead>\n",
              "    <tr style=\"text-align: right;\">\n",
              "      <th></th>\n",
              "      <th>ACO_FIYAT</th>\n",
              "    </tr>\n",
              "    <tr>\n",
              "      <th>TARIH</th>\n",
              "      <th></th>\n",
              "    </tr>\n",
              "  </thead>\n",
              "  <tbody>\n",
              "    <tr>\n",
              "      <th>2020-11-30</th>\n",
              "      <td>1.675325</td>\n",
              "    </tr>\n",
              "    <tr>\n",
              "      <th>2020-12-01</th>\n",
              "      <td>1.675706</td>\n",
              "    </tr>\n",
              "    <tr>\n",
              "      <th>2020-12-02</th>\n",
              "      <td>1.676379</td>\n",
              "    </tr>\n",
              "    <tr>\n",
              "      <th>2020-12-03</th>\n",
              "      <td>1.676032</td>\n",
              "    </tr>\n",
              "    <tr>\n",
              "      <th>2020-12-04</th>\n",
              "      <td>1.677761</td>\n",
              "    </tr>\n",
              "  </tbody>\n",
              "</table>\n",
              "</div>"
            ],
            "text/plain": [
              "            ACO_FIYAT\n",
              "TARIH                \n",
              "2020-11-30   1.675325\n",
              "2020-12-01   1.675706\n",
              "2020-12-02   1.676379\n",
              "2020-12-03   1.676032\n",
              "2020-12-04   1.677761"
            ]
          },
          "metadata": {
            "tags": []
          },
          "execution_count": 39
        }
      ]
    },
    {
      "cell_type": "code",
      "metadata": {
        "id": "boMk1qTfY0HM"
      },
      "source": [
        ""
      ],
      "execution_count": null,
      "outputs": []
    }
  ]
}